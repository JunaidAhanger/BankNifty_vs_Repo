{
 "cells": [
  {
   "cell_type": "code",
   "execution_count": 240,
   "id": "286f0710-d2e9-4d21-bbec-357ca7ebd29f",
   "metadata": {},
   "outputs": [],
   "source": [
    "# Importing needed libraries\n",
    "import pandas as pd \n",
    "import matplotlib.pyplot as plt\n",
    "import seaborn as sns\n",
    "# Ensure plots show inside the notebook\n",
    "%matplotlib inline"
   ]
  },
  {
   "cell_type": "code",
   "execution_count": 241,
   "id": "0e17796a-f3c2-43fb-80c6-a8329d585a98",
   "metadata": {},
   "outputs": [],
   "source": [
    "#df is the interest rate dataset\n",
    "df = pd.read_csv(\"/Users/junaidjaveed/Desktop/Project_1/pr_f2.csv\")"
   ]
  },
  {
   "cell_type": "code",
   "execution_count": 242,
   "id": "f8ae28e4-9330-4c47-9e68-dc744137a5b6",
   "metadata": {},
   "outputs": [
    {
     "data": {
      "text/html": [
       "<div>\n",
       "<style scoped>\n",
       "    .dataframe tbody tr th:only-of-type {\n",
       "        vertical-align: middle;\n",
       "    }\n",
       "\n",
       "    .dataframe tbody tr th {\n",
       "        vertical-align: top;\n",
       "    }\n",
       "\n",
       "    .dataframe thead th {\n",
       "        text-align: right;\n",
       "    }\n",
       "</style>\n",
       "<table border=\"1\" class=\"dataframe\">\n",
       "  <thead>\n",
       "    <tr style=\"text-align: right;\">\n",
       "      <th></th>\n",
       "      <th>Effective Date\\n</th>\n",
       "      <th>Bank Rate</th>\n",
       "      <th>Repo</th>\n",
       "      <th>Reverse Repo</th>\n",
       "      <th>Standing Deposit Facility (SDF) Rate</th>\n",
       "      <th>Marginal Standing Facility (MSF) Rate</th>\n",
       "      <th>Cash Reserve Ratio (CRR)</th>\n",
       "      <th>Statutory Liquidity Ratio (SLR)</th>\n",
       "    </tr>\n",
       "  </thead>\n",
       "  <tbody>\n",
       "    <tr>\n",
       "      <th>0</th>\n",
       "      <td>02-07-2025</td>\n",
       "      <td>6.50</td>\n",
       "      <td>6.25</td>\n",
       "      <td>-</td>\n",
       "      <td>6.00</td>\n",
       "      <td>6.50</td>\n",
       "      <td>-</td>\n",
       "      <td>-</td>\n",
       "    </tr>\n",
       "    <tr>\n",
       "      <th>1</th>\n",
       "      <td>12-28-2024</td>\n",
       "      <td>-</td>\n",
       "      <td>-</td>\n",
       "      <td>-</td>\n",
       "      <td>-</td>\n",
       "      <td>-</td>\n",
       "      <td>4</td>\n",
       "      <td>-</td>\n",
       "    </tr>\n",
       "    <tr>\n",
       "      <th>2</th>\n",
       "      <td>12-14-2024</td>\n",
       "      <td>-</td>\n",
       "      <td>-</td>\n",
       "      <td>-</td>\n",
       "      <td>-</td>\n",
       "      <td>-</td>\n",
       "      <td>4.25</td>\n",
       "      <td>-</td>\n",
       "    </tr>\n",
       "    <tr>\n",
       "      <th>3</th>\n",
       "      <td>02-08-2023</td>\n",
       "      <td>6.75</td>\n",
       "      <td>6.50</td>\n",
       "      <td>-</td>\n",
       "      <td>6.25</td>\n",
       "      <td>6.75</td>\n",
       "      <td>-</td>\n",
       "      <td>-</td>\n",
       "    </tr>\n",
       "    <tr>\n",
       "      <th>4</th>\n",
       "      <td>12-07-2022</td>\n",
       "      <td>6.50</td>\n",
       "      <td>6.25</td>\n",
       "      <td>-</td>\n",
       "      <td>6.00</td>\n",
       "      <td>6.50</td>\n",
       "      <td>-</td>\n",
       "      <td>-</td>\n",
       "    </tr>\n",
       "  </tbody>\n",
       "</table>\n",
       "</div>"
      ],
      "text/plain": [
       "  Effective Date\\n Bank Rate  Repo Reverse Repo Standing Deposit Facility (SDF) Rate Marginal Standing Facility (MSF) Rate Cash Reserve Ratio (CRR) Statutory Liquidity Ratio (SLR)\n",
       "0       02-07-2025      6.50  6.25            -                                 6.00                                  6.50                        -                               -\n",
       "1       12-28-2024         -     -            -                                    -                                     -                        4                               -\n",
       "2       12-14-2024         -     -            -                                    -                                     -                     4.25                               -\n",
       "3       02-08-2023      6.75  6.50            -                                 6.25                                  6.75                        -                               -\n",
       "4       12-07-2022      6.50  6.25            -                                 6.00                                  6.50                        -                               -"
      ]
     },
     "execution_count": 242,
     "metadata": {},
     "output_type": "execute_result"
    }
   ],
   "source": [
    "df.head()"
   ]
  },
  {
   "cell_type": "code",
   "execution_count": 243,
   "id": "2ed30065-2a7f-4b30-af3d-a12533324992",
   "metadata": {},
   "outputs": [
    {
     "name": "stdout",
     "output_type": "stream",
     "text": [
      "0      02-07-2025\n",
      "1      12-28-2024\n",
      "2      12-14-2024\n",
      "3      02-08-2023\n",
      "4      12-07-2022\n",
      "          ...    \n",
      "238    03-02-1968\n",
      "239    02-17-1965\n",
      "240    09-26-1964\n",
      "241    09-16-1964\n",
      "242    01-03-1963\n",
      "Name: Effective Date\\n, Length: 243, dtype: object\n"
     ]
    }
   ],
   "source": [
    "print(df[\"Effective Date\\n\"])"
   ]
  },
  {
   "cell_type": "code",
   "execution_count": 244,
   "id": "0ca9b3f0-ba9c-414e-95f5-889af6313acd",
   "metadata": {},
   "outputs": [],
   "source": [
    "df.columns = df.columns.str.strip() # Clean column names of any spaces."
   ]
  },
  {
   "cell_type": "code",
   "execution_count": 245,
   "id": "0fac6e7e-5e75-4412-ac5f-fc217cf0ca82",
   "metadata": {},
   "outputs": [
    {
     "data": {
      "text/html": [
       "<div>\n",
       "<style scoped>\n",
       "    .dataframe tbody tr th:only-of-type {\n",
       "        vertical-align: middle;\n",
       "    }\n",
       "\n",
       "    .dataframe tbody tr th {\n",
       "        vertical-align: top;\n",
       "    }\n",
       "\n",
       "    .dataframe thead th {\n",
       "        text-align: right;\n",
       "    }\n",
       "</style>\n",
       "<table border=\"1\" class=\"dataframe\">\n",
       "  <thead>\n",
       "    <tr style=\"text-align: right;\">\n",
       "      <th></th>\n",
       "      <th>Effective Date</th>\n",
       "      <th>Bank Rate</th>\n",
       "      <th>Repo</th>\n",
       "      <th>Reverse Repo</th>\n",
       "      <th>Standing Deposit Facility (SDF) Rate</th>\n",
       "      <th>Marginal Standing Facility (MSF) Rate</th>\n",
       "      <th>Cash Reserve Ratio (CRR)</th>\n",
       "      <th>Statutory Liquidity Ratio (SLR)</th>\n",
       "    </tr>\n",
       "  </thead>\n",
       "  <tbody>\n",
       "    <tr>\n",
       "      <th>0</th>\n",
       "      <td>02-07-2025</td>\n",
       "      <td>6.50</td>\n",
       "      <td>6.25</td>\n",
       "      <td>-</td>\n",
       "      <td>6.00</td>\n",
       "      <td>6.50</td>\n",
       "      <td>-</td>\n",
       "      <td>-</td>\n",
       "    </tr>\n",
       "    <tr>\n",
       "      <th>1</th>\n",
       "      <td>12-28-2024</td>\n",
       "      <td>-</td>\n",
       "      <td>-</td>\n",
       "      <td>-</td>\n",
       "      <td>-</td>\n",
       "      <td>-</td>\n",
       "      <td>4</td>\n",
       "      <td>-</td>\n",
       "    </tr>\n",
       "    <tr>\n",
       "      <th>2</th>\n",
       "      <td>12-14-2024</td>\n",
       "      <td>-</td>\n",
       "      <td>-</td>\n",
       "      <td>-</td>\n",
       "      <td>-</td>\n",
       "      <td>-</td>\n",
       "      <td>4.25</td>\n",
       "      <td>-</td>\n",
       "    </tr>\n",
       "    <tr>\n",
       "      <th>3</th>\n",
       "      <td>02-08-2023</td>\n",
       "      <td>6.75</td>\n",
       "      <td>6.50</td>\n",
       "      <td>-</td>\n",
       "      <td>6.25</td>\n",
       "      <td>6.75</td>\n",
       "      <td>-</td>\n",
       "      <td>-</td>\n",
       "    </tr>\n",
       "    <tr>\n",
       "      <th>4</th>\n",
       "      <td>12-07-2022</td>\n",
       "      <td>6.50</td>\n",
       "      <td>6.25</td>\n",
       "      <td>-</td>\n",
       "      <td>6.00</td>\n",
       "      <td>6.50</td>\n",
       "      <td>-</td>\n",
       "      <td>-</td>\n",
       "    </tr>\n",
       "  </tbody>\n",
       "</table>\n",
       "</div>"
      ],
      "text/plain": [
       "  Effective Date Bank Rate  Repo Reverse Repo Standing Deposit Facility (SDF) Rate Marginal Standing Facility (MSF) Rate Cash Reserve Ratio (CRR) Statutory Liquidity Ratio (SLR)\n",
       "0     02-07-2025      6.50  6.25            -                                 6.00                                  6.50                        -                               -\n",
       "1     12-28-2024         -     -            -                                    -                                     -                        4                               -\n",
       "2     12-14-2024         -     -            -                                    -                                     -                     4.25                               -\n",
       "3     02-08-2023      6.75  6.50            -                                 6.25                                  6.75                        -                               -\n",
       "4     12-07-2022      6.50  6.25            -                                 6.00                                  6.50                        -                               -"
      ]
     },
     "execution_count": 245,
     "metadata": {},
     "output_type": "execute_result"
    }
   ],
   "source": [
    "df.head()"
   ]
  },
  {
   "cell_type": "code",
   "execution_count": 246,
   "id": "f035431b-d416-46eb-a64f-da6c3b2a0bee",
   "metadata": {},
   "outputs": [
    {
     "name": "stdout",
     "output_type": "stream",
     "text": [
      "0      02-07-2025\n",
      "1      12-28-2024\n",
      "2      12-14-2024\n",
      "3      02-08-2023\n",
      "4      12-07-2022\n",
      "          ...    \n",
      "238    03-02-1968\n",
      "239    02-17-1965\n",
      "240    09-26-1964\n",
      "241    09-16-1964\n",
      "242    01-03-1963\n",
      "Name: Effective Date, Length: 243, dtype: object\n"
     ]
    }
   ],
   "source": [
    "print(df[\"Effective Date\"])"
   ]
  },
  {
   "cell_type": "code",
   "execution_count": 247,
   "id": "3580cccb-f7c2-4da9-a1bc-4978e3717063",
   "metadata": {},
   "outputs": [],
   "source": [
    "#Convert 'Effective Date' column to datetime format\n",
    "df[\"Effective Date\"] = pd.to_datetime(df[\"Effective Date\"])"
   ]
  },
  {
   "cell_type": "code",
   "execution_count": 248,
   "id": "998e2b42-aeca-47f2-984b-78f3becb3198",
   "metadata": {},
   "outputs": [
    {
     "name": "stdout",
     "output_type": "stream",
     "text": [
      "datetime64[ns]\n"
     ]
    }
   ],
   "source": [
    "print(df[\"Effective Date\"].dtype)"
   ]
  },
  {
   "cell_type": "code",
   "execution_count": 249,
   "id": "5313de0c-2d85-4943-bd6c-32fe73b66288",
   "metadata": {},
   "outputs": [],
   "source": [
    "df.index = df[\"Effective Date\"] # Make column \"Effective Date index col"
   ]
  },
  {
   "cell_type": "code",
   "execution_count": 250,
   "id": "36f30c30-e792-402f-8638-a2c5c7f41be6",
   "metadata": {},
   "outputs": [
    {
     "name": "stdout",
     "output_type": "stream",
     "text": [
      "datetime64[ns]\n"
     ]
    }
   ],
   "source": [
    "print(df.index.dtype)"
   ]
  },
  {
   "cell_type": "code",
   "execution_count": 251,
   "id": "62af1562-3915-440b-9e99-f7e9ff66e5ee",
   "metadata": {},
   "outputs": [
    {
     "name": "stdout",
     "output_type": "stream",
     "text": [
      "DatetimeIndex(['2025-02-07', '2024-12-28', '2024-12-14', '2023-02-08', '2022-12-07', '2022-09-30', '2022-08-05', '2022-06-08', '2022-05-21', '2022-05-04',\n",
      "               ...\n",
      "               '1972-08-04', '1971-01-09', '1970-08-28', '1970-04-24', '1970-02-05', '1968-03-02', '1965-02-17', '1964-09-26', '1964-09-16', '1963-01-03'], dtype='datetime64[ns]', name='Effective Date', length=243, freq=None)\n"
     ]
    }
   ],
   "source": [
    "print(df.index)"
   ]
  },
  {
   "cell_type": "code",
   "execution_count": 252,
   "id": "d3c6535d-4ec6-4c68-8d45-54f00d90760b",
   "metadata": {},
   "outputs": [],
   "source": [
    "df = df.sort_index() # Sort dataframe based on index column 'Effective Date'"
   ]
  },
  {
   "cell_type": "code",
   "execution_count": 253,
   "id": "423c577c-4177-43f3-a70d-32d5e2364ef5",
   "metadata": {},
   "outputs": [
    {
     "data": {
      "text/html": [
       "<div>\n",
       "<style scoped>\n",
       "    .dataframe tbody tr th:only-of-type {\n",
       "        vertical-align: middle;\n",
       "    }\n",
       "\n",
       "    .dataframe tbody tr th {\n",
       "        vertical-align: top;\n",
       "    }\n",
       "\n",
       "    .dataframe thead th {\n",
       "        text-align: right;\n",
       "    }\n",
       "</style>\n",
       "<table border=\"1\" class=\"dataframe\">\n",
       "  <thead>\n",
       "    <tr style=\"text-align: right;\">\n",
       "      <th></th>\n",
       "      <th>Effective Date</th>\n",
       "      <th>Bank Rate</th>\n",
       "      <th>Repo</th>\n",
       "      <th>Reverse Repo</th>\n",
       "      <th>Standing Deposit Facility (SDF) Rate</th>\n",
       "      <th>Marginal Standing Facility (MSF) Rate</th>\n",
       "      <th>Cash Reserve Ratio (CRR)</th>\n",
       "      <th>Statutory Liquidity Ratio (SLR)</th>\n",
       "    </tr>\n",
       "    <tr>\n",
       "      <th>Effective Date</th>\n",
       "      <th></th>\n",
       "      <th></th>\n",
       "      <th></th>\n",
       "      <th></th>\n",
       "      <th></th>\n",
       "      <th></th>\n",
       "      <th></th>\n",
       "      <th></th>\n",
       "    </tr>\n",
       "  </thead>\n",
       "  <tbody>\n",
       "    <tr>\n",
       "      <th>1963-01-03</th>\n",
       "      <td>1963-01-03</td>\n",
       "      <td>4.50</td>\n",
       "      <td>-</td>\n",
       "      <td>-</td>\n",
       "      <td>-</td>\n",
       "      <td>-</td>\n",
       "      <td>-</td>\n",
       "      <td>-</td>\n",
       "    </tr>\n",
       "    <tr>\n",
       "      <th>1964-09-16</th>\n",
       "      <td>1964-09-16</td>\n",
       "      <td>-</td>\n",
       "      <td>-</td>\n",
       "      <td>-</td>\n",
       "      <td>-</td>\n",
       "      <td>-</td>\n",
       "      <td>-</td>\n",
       "      <td>25.00</td>\n",
       "    </tr>\n",
       "    <tr>\n",
       "      <th>1964-09-26</th>\n",
       "      <td>1964-09-26</td>\n",
       "      <td>5.00</td>\n",
       "      <td>-</td>\n",
       "      <td>-</td>\n",
       "      <td>-</td>\n",
       "      <td>-</td>\n",
       "      <td>-</td>\n",
       "      <td>-</td>\n",
       "    </tr>\n",
       "    <tr>\n",
       "      <th>1965-02-17</th>\n",
       "      <td>1965-02-17</td>\n",
       "      <td>6.00</td>\n",
       "      <td>-</td>\n",
       "      <td>-</td>\n",
       "      <td>-</td>\n",
       "      <td>-</td>\n",
       "      <td>-</td>\n",
       "      <td>-</td>\n",
       "    </tr>\n",
       "    <tr>\n",
       "      <th>1968-03-02</th>\n",
       "      <td>1968-03-02</td>\n",
       "      <td>5.00</td>\n",
       "      <td>-</td>\n",
       "      <td>-</td>\n",
       "      <td>-</td>\n",
       "      <td>-</td>\n",
       "      <td>-</td>\n",
       "      <td>-</td>\n",
       "    </tr>\n",
       "  </tbody>\n",
       "</table>\n",
       "</div>"
      ],
      "text/plain": [
       "               Effective Date Bank Rate Repo Reverse Repo Standing Deposit Facility (SDF) Rate Marginal Standing Facility (MSF) Rate Cash Reserve Ratio (CRR) Statutory Liquidity Ratio (SLR)\n",
       "Effective Date                                                                                                                                                                               \n",
       "1963-01-03         1963-01-03      4.50    -            -                                    -                                     -                        -                               -\n",
       "1964-09-16         1964-09-16         -    -            -                                    -                                     -                        -                           25.00\n",
       "1964-09-26         1964-09-26      5.00    -            -                                    -                                     -                        -                               -\n",
       "1965-02-17         1965-02-17      6.00    -            -                                    -                                     -                        -                               -\n",
       "1968-03-02         1968-03-02      5.00    -            -                                    -                                     -                        -                               -"
      ]
     },
     "execution_count": 253,
     "metadata": {},
     "output_type": "execute_result"
    }
   ],
   "source": [
    "df.head()"
   ]
  },
  {
   "cell_type": "code",
   "execution_count": 254,
   "id": "fc2f9400-feaa-424e-8f29-6fb1b11b4b75",
   "metadata": {},
   "outputs": [],
   "source": [
    "columns_to_replace = [\"Bank Rate\", \"Repo\", \"Reverse Repo\", \"Standing Deposit Facility (SDF) Rate\",\n",
    "                      \"Marginal Standing Facility (MSF) Rate\",\"Cash Reserve Ratio (CRR)\",\n",
    "                      \"Statutory Liquidity Ratio (SLR)\"] \n",
    "# columns in which '-' means no change in value' need to fill '-' with previous\n",
    "#value that variable had"
   ]
  },
  {
   "cell_type": "code",
   "execution_count": 255,
   "id": "672fc969-e38c-4919-a53e-e098fb6d398d",
   "metadata": {},
   "outputs": [],
   "source": [
    "# replacing '-' in \"columns_to_replace columns\" to NaN and forward fill as \"-\" indicates no change from previous values\n",
    "df = df.replace(\"-\", pd.NA)\n",
    "df = df.ffill()"
   ]
  },
  {
   "cell_type": "code",
   "execution_count": 256,
   "id": "d3704ce3-38df-473b-986d-aaa9d4f041cf",
   "metadata": {},
   "outputs": [
    {
     "data": {
      "text/html": [
       "<div>\n",
       "<style scoped>\n",
       "    .dataframe tbody tr th:only-of-type {\n",
       "        vertical-align: middle;\n",
       "    }\n",
       "\n",
       "    .dataframe tbody tr th {\n",
       "        vertical-align: top;\n",
       "    }\n",
       "\n",
       "    .dataframe thead th {\n",
       "        text-align: right;\n",
       "    }\n",
       "</style>\n",
       "<table border=\"1\" class=\"dataframe\">\n",
       "  <thead>\n",
       "    <tr style=\"text-align: right;\">\n",
       "      <th></th>\n",
       "      <th>Effective Date</th>\n",
       "      <th>Bank Rate</th>\n",
       "      <th>Repo</th>\n",
       "      <th>Reverse Repo</th>\n",
       "      <th>Standing Deposit Facility (SDF) Rate</th>\n",
       "      <th>Marginal Standing Facility (MSF) Rate</th>\n",
       "      <th>Cash Reserve Ratio (CRR)</th>\n",
       "      <th>Statutory Liquidity Ratio (SLR)</th>\n",
       "    </tr>\n",
       "    <tr>\n",
       "      <th>Effective Date</th>\n",
       "      <th></th>\n",
       "      <th></th>\n",
       "      <th></th>\n",
       "      <th></th>\n",
       "      <th></th>\n",
       "      <th></th>\n",
       "      <th></th>\n",
       "      <th></th>\n",
       "    </tr>\n",
       "  </thead>\n",
       "  <tbody>\n",
       "    <tr>\n",
       "      <th>1963-01-03</th>\n",
       "      <td>1963-01-03</td>\n",
       "      <td>4.50</td>\n",
       "      <td>&lt;NA&gt;</td>\n",
       "      <td>&lt;NA&gt;</td>\n",
       "      <td>&lt;NA&gt;</td>\n",
       "      <td>&lt;NA&gt;</td>\n",
       "      <td>&lt;NA&gt;</td>\n",
       "      <td>&lt;NA&gt;</td>\n",
       "    </tr>\n",
       "    <tr>\n",
       "      <th>1964-09-16</th>\n",
       "      <td>1964-09-16</td>\n",
       "      <td>4.50</td>\n",
       "      <td>&lt;NA&gt;</td>\n",
       "      <td>&lt;NA&gt;</td>\n",
       "      <td>&lt;NA&gt;</td>\n",
       "      <td>&lt;NA&gt;</td>\n",
       "      <td>&lt;NA&gt;</td>\n",
       "      <td>25.00</td>\n",
       "    </tr>\n",
       "    <tr>\n",
       "      <th>1964-09-26</th>\n",
       "      <td>1964-09-26</td>\n",
       "      <td>5.00</td>\n",
       "      <td>&lt;NA&gt;</td>\n",
       "      <td>&lt;NA&gt;</td>\n",
       "      <td>&lt;NA&gt;</td>\n",
       "      <td>&lt;NA&gt;</td>\n",
       "      <td>&lt;NA&gt;</td>\n",
       "      <td>25.00</td>\n",
       "    </tr>\n",
       "    <tr>\n",
       "      <th>1965-02-17</th>\n",
       "      <td>1965-02-17</td>\n",
       "      <td>6.00</td>\n",
       "      <td>&lt;NA&gt;</td>\n",
       "      <td>&lt;NA&gt;</td>\n",
       "      <td>&lt;NA&gt;</td>\n",
       "      <td>&lt;NA&gt;</td>\n",
       "      <td>&lt;NA&gt;</td>\n",
       "      <td>25.00</td>\n",
       "    </tr>\n",
       "    <tr>\n",
       "      <th>1968-03-02</th>\n",
       "      <td>1968-03-02</td>\n",
       "      <td>5.00</td>\n",
       "      <td>&lt;NA&gt;</td>\n",
       "      <td>&lt;NA&gt;</td>\n",
       "      <td>&lt;NA&gt;</td>\n",
       "      <td>&lt;NA&gt;</td>\n",
       "      <td>&lt;NA&gt;</td>\n",
       "      <td>25.00</td>\n",
       "    </tr>\n",
       "    <tr>\n",
       "      <th>...</th>\n",
       "      <td>...</td>\n",
       "      <td>...</td>\n",
       "      <td>...</td>\n",
       "      <td>...</td>\n",
       "      <td>...</td>\n",
       "      <td>...</td>\n",
       "      <td>...</td>\n",
       "      <td>...</td>\n",
       "    </tr>\n",
       "    <tr>\n",
       "      <th>2019-04-13</th>\n",
       "      <td>2019-04-13</td>\n",
       "      <td>6.25</td>\n",
       "      <td>6.00</td>\n",
       "      <td>5.75</td>\n",
       "      <td>&lt;NA&gt;</td>\n",
       "      <td>6.25</td>\n",
       "      <td>4</td>\n",
       "      <td>19.00</td>\n",
       "    </tr>\n",
       "    <tr>\n",
       "      <th>2019-06-06</th>\n",
       "      <td>2019-06-06</td>\n",
       "      <td>6.00</td>\n",
       "      <td>5.75</td>\n",
       "      <td>5.50</td>\n",
       "      <td>&lt;NA&gt;</td>\n",
       "      <td>6.00</td>\n",
       "      <td>4</td>\n",
       "      <td>19.00</td>\n",
       "    </tr>\n",
       "    <tr>\n",
       "      <th>2019-07-06</th>\n",
       "      <td>2019-07-06</td>\n",
       "      <td>6.00</td>\n",
       "      <td>5.75</td>\n",
       "      <td>5.50</td>\n",
       "      <td>&lt;NA&gt;</td>\n",
       "      <td>6.00</td>\n",
       "      <td>4</td>\n",
       "      <td>18.75</td>\n",
       "    </tr>\n",
       "    <tr>\n",
       "      <th>2019-08-07</th>\n",
       "      <td>2019-08-07</td>\n",
       "      <td>5.65</td>\n",
       "      <td>5.40</td>\n",
       "      <td>5.15</td>\n",
       "      <td>&lt;NA&gt;</td>\n",
       "      <td>5.65</td>\n",
       "      <td>4</td>\n",
       "      <td>18.75</td>\n",
       "    </tr>\n",
       "    <tr>\n",
       "      <th>2019-10-04</th>\n",
       "      <td>2019-10-04</td>\n",
       "      <td>5.40</td>\n",
       "      <td>5.15</td>\n",
       "      <td>4.90</td>\n",
       "      <td>&lt;NA&gt;</td>\n",
       "      <td>5.40</td>\n",
       "      <td>4</td>\n",
       "      <td>18.75</td>\n",
       "    </tr>\n",
       "  </tbody>\n",
       "</table>\n",
       "<p>223 rows × 8 columns</p>\n",
       "</div>"
      ],
      "text/plain": [
       "               Effective Date Bank Rate  Repo Reverse Repo Standing Deposit Facility (SDF) Rate Marginal Standing Facility (MSF) Rate Cash Reserve Ratio (CRR) Statutory Liquidity Ratio (SLR)\n",
       "Effective Date                                                                                                                                                                                \n",
       "1963-01-03         1963-01-03      4.50  <NA>         <NA>                                 <NA>                                  <NA>                     <NA>                            <NA>\n",
       "1964-09-16         1964-09-16      4.50  <NA>         <NA>                                 <NA>                                  <NA>                     <NA>                           25.00\n",
       "1964-09-26         1964-09-26      5.00  <NA>         <NA>                                 <NA>                                  <NA>                     <NA>                           25.00\n",
       "1965-02-17         1965-02-17      6.00  <NA>         <NA>                                 <NA>                                  <NA>                     <NA>                           25.00\n",
       "1968-03-02         1968-03-02      5.00  <NA>         <NA>                                 <NA>                                  <NA>                     <NA>                           25.00\n",
       "...                       ...       ...   ...          ...                                  ...                                   ...                      ...                             ...\n",
       "2019-04-13         2019-04-13      6.25  6.00         5.75                                 <NA>                                  6.25                        4                           19.00\n",
       "2019-06-06         2019-06-06      6.00  5.75         5.50                                 <NA>                                  6.00                        4                           19.00\n",
       "2019-07-06         2019-07-06      6.00  5.75         5.50                                 <NA>                                  6.00                        4                           18.75\n",
       "2019-08-07         2019-08-07      5.65  5.40         5.15                                 <NA>                                  5.65                        4                           18.75\n",
       "2019-10-04         2019-10-04      5.40  5.15         4.90                                 <NA>                                  5.40                        4                           18.75\n",
       "\n",
       "[223 rows x 8 columns]"
      ]
     },
     "execution_count": 256,
     "metadata": {},
     "output_type": "execute_result"
    }
   ],
   "source": [
    "df.head(-20)"
   ]
  },
  {
   "cell_type": "code",
   "execution_count": 257,
   "id": "8c94465d-0bb7-4d44-a24c-364143c4873f",
   "metadata": {},
   "outputs": [
    {
     "data": {
      "text/html": [
       "<div>\n",
       "<style scoped>\n",
       "    .dataframe tbody tr th:only-of-type {\n",
       "        vertical-align: middle;\n",
       "    }\n",
       "\n",
       "    .dataframe tbody tr th {\n",
       "        vertical-align: top;\n",
       "    }\n",
       "\n",
       "    .dataframe thead th {\n",
       "        text-align: right;\n",
       "    }\n",
       "</style>\n",
       "<table border=\"1\" class=\"dataframe\">\n",
       "  <thead>\n",
       "    <tr style=\"text-align: right;\">\n",
       "      <th></th>\n",
       "      <th>Effective Date</th>\n",
       "      <th>Bank Rate</th>\n",
       "      <th>Repo</th>\n",
       "      <th>Reverse Repo</th>\n",
       "      <th>Standing Deposit Facility (SDF) Rate</th>\n",
       "      <th>Marginal Standing Facility (MSF) Rate</th>\n",
       "      <th>Cash Reserve Ratio (CRR)</th>\n",
       "      <th>Statutory Liquidity Ratio (SLR)</th>\n",
       "    </tr>\n",
       "    <tr>\n",
       "      <th>Effective Date</th>\n",
       "      <th></th>\n",
       "      <th></th>\n",
       "      <th></th>\n",
       "      <th></th>\n",
       "      <th></th>\n",
       "      <th></th>\n",
       "      <th></th>\n",
       "      <th></th>\n",
       "    </tr>\n",
       "  </thead>\n",
       "  <tbody>\n",
       "    <tr>\n",
       "      <th>1963-01-03</th>\n",
       "      <td>1963-01-03</td>\n",
       "      <td>4.50</td>\n",
       "      <td>&lt;NA&gt;</td>\n",
       "      <td>&lt;NA&gt;</td>\n",
       "      <td>&lt;NA&gt;</td>\n",
       "      <td>&lt;NA&gt;</td>\n",
       "      <td>&lt;NA&gt;</td>\n",
       "      <td>&lt;NA&gt;</td>\n",
       "    </tr>\n",
       "    <tr>\n",
       "      <th>1964-09-16</th>\n",
       "      <td>1964-09-16</td>\n",
       "      <td>4.50</td>\n",
       "      <td>&lt;NA&gt;</td>\n",
       "      <td>&lt;NA&gt;</td>\n",
       "      <td>&lt;NA&gt;</td>\n",
       "      <td>&lt;NA&gt;</td>\n",
       "      <td>&lt;NA&gt;</td>\n",
       "      <td>25.00</td>\n",
       "    </tr>\n",
       "    <tr>\n",
       "      <th>1964-09-26</th>\n",
       "      <td>1964-09-26</td>\n",
       "      <td>5.00</td>\n",
       "      <td>&lt;NA&gt;</td>\n",
       "      <td>&lt;NA&gt;</td>\n",
       "      <td>&lt;NA&gt;</td>\n",
       "      <td>&lt;NA&gt;</td>\n",
       "      <td>&lt;NA&gt;</td>\n",
       "      <td>25.00</td>\n",
       "    </tr>\n",
       "    <tr>\n",
       "      <th>1965-02-17</th>\n",
       "      <td>1965-02-17</td>\n",
       "      <td>6.00</td>\n",
       "      <td>&lt;NA&gt;</td>\n",
       "      <td>&lt;NA&gt;</td>\n",
       "      <td>&lt;NA&gt;</td>\n",
       "      <td>&lt;NA&gt;</td>\n",
       "      <td>&lt;NA&gt;</td>\n",
       "      <td>25.00</td>\n",
       "    </tr>\n",
       "    <tr>\n",
       "      <th>1968-03-02</th>\n",
       "      <td>1968-03-02</td>\n",
       "      <td>5.00</td>\n",
       "      <td>&lt;NA&gt;</td>\n",
       "      <td>&lt;NA&gt;</td>\n",
       "      <td>&lt;NA&gt;</td>\n",
       "      <td>&lt;NA&gt;</td>\n",
       "      <td>&lt;NA&gt;</td>\n",
       "      <td>25.00</td>\n",
       "    </tr>\n",
       "    <tr>\n",
       "      <th>1970-02-05</th>\n",
       "      <td>1970-02-05</td>\n",
       "      <td>5.00</td>\n",
       "      <td>&lt;NA&gt;</td>\n",
       "      <td>&lt;NA&gt;</td>\n",
       "      <td>&lt;NA&gt;</td>\n",
       "      <td>&lt;NA&gt;</td>\n",
       "      <td>&lt;NA&gt;</td>\n",
       "      <td>26.00</td>\n",
       "    </tr>\n",
       "    <tr>\n",
       "      <th>1970-04-24</th>\n",
       "      <td>1970-04-24</td>\n",
       "      <td>5.00</td>\n",
       "      <td>&lt;NA&gt;</td>\n",
       "      <td>&lt;NA&gt;</td>\n",
       "      <td>&lt;NA&gt;</td>\n",
       "      <td>&lt;NA&gt;</td>\n",
       "      <td>&lt;NA&gt;</td>\n",
       "      <td>27.00</td>\n",
       "    </tr>\n",
       "    <tr>\n",
       "      <th>1970-08-28</th>\n",
       "      <td>1970-08-28</td>\n",
       "      <td>5.00</td>\n",
       "      <td>&lt;NA&gt;</td>\n",
       "      <td>&lt;NA&gt;</td>\n",
       "      <td>&lt;NA&gt;</td>\n",
       "      <td>&lt;NA&gt;</td>\n",
       "      <td>&lt;NA&gt;</td>\n",
       "      <td>28.00</td>\n",
       "    </tr>\n",
       "    <tr>\n",
       "      <th>1971-01-09</th>\n",
       "      <td>1971-01-09</td>\n",
       "      <td>6.00</td>\n",
       "      <td>&lt;NA&gt;</td>\n",
       "      <td>&lt;NA&gt;</td>\n",
       "      <td>&lt;NA&gt;</td>\n",
       "      <td>&lt;NA&gt;</td>\n",
       "      <td>&lt;NA&gt;</td>\n",
       "      <td>28.00</td>\n",
       "    </tr>\n",
       "    <tr>\n",
       "      <th>1972-08-04</th>\n",
       "      <td>1972-08-04</td>\n",
       "      <td>6.00</td>\n",
       "      <td>&lt;NA&gt;</td>\n",
       "      <td>&lt;NA&gt;</td>\n",
       "      <td>&lt;NA&gt;</td>\n",
       "      <td>&lt;NA&gt;</td>\n",
       "      <td>&lt;NA&gt;</td>\n",
       "      <td>29.00</td>\n",
       "    </tr>\n",
       "  </tbody>\n",
       "</table>\n",
       "</div>"
      ],
      "text/plain": [
       "               Effective Date Bank Rate  Repo Reverse Repo Standing Deposit Facility (SDF) Rate Marginal Standing Facility (MSF) Rate Cash Reserve Ratio (CRR) Statutory Liquidity Ratio (SLR)\n",
       "Effective Date                                                                                                                                                                                \n",
       "1963-01-03         1963-01-03      4.50  <NA>         <NA>                                 <NA>                                  <NA>                     <NA>                            <NA>\n",
       "1964-09-16         1964-09-16      4.50  <NA>         <NA>                                 <NA>                                  <NA>                     <NA>                           25.00\n",
       "1964-09-26         1964-09-26      5.00  <NA>         <NA>                                 <NA>                                  <NA>                     <NA>                           25.00\n",
       "1965-02-17         1965-02-17      6.00  <NA>         <NA>                                 <NA>                                  <NA>                     <NA>                           25.00\n",
       "1968-03-02         1968-03-02      5.00  <NA>         <NA>                                 <NA>                                  <NA>                     <NA>                           25.00\n",
       "1970-02-05         1970-02-05      5.00  <NA>         <NA>                                 <NA>                                  <NA>                     <NA>                           26.00\n",
       "1970-04-24         1970-04-24      5.00  <NA>         <NA>                                 <NA>                                  <NA>                     <NA>                           27.00\n",
       "1970-08-28         1970-08-28      5.00  <NA>         <NA>                                 <NA>                                  <NA>                     <NA>                           28.00\n",
       "1971-01-09         1971-01-09      6.00  <NA>         <NA>                                 <NA>                                  <NA>                     <NA>                           28.00\n",
       "1972-08-04         1972-08-04      6.00  <NA>         <NA>                                 <NA>                                  <NA>                     <NA>                           29.00"
      ]
     },
     "execution_count": 257,
     "metadata": {},
     "output_type": "execute_result"
    }
   ],
   "source": [
    "df.head(10)"
   ]
  },
  {
   "cell_type": "code",
   "execution_count": 258,
   "id": "30478d30-2b4e-493a-82f0-e39868184eab",
   "metadata": {},
   "outputs": [
    {
     "data": {
      "text/plain": [
       "Effective Date                             0\n",
       "Bank Rate                                  0\n",
       "Repo                                     102\n",
       "Reverse Repo                             102\n",
       "Standing Deposit Facility (SDF) Rate     232\n",
       "Marginal Standing Facility (MSF) Rate    175\n",
       "Cash Reserve Ratio (CRR)                  12\n",
       "Statutory Liquidity Ratio (SLR)            1\n",
       "dtype: int64"
      ]
     },
     "execution_count": 258,
     "metadata": {},
     "output_type": "execute_result"
    }
   ],
   "source": [
    "df.head()\n",
    "df.isnull().sum()"
   ]
  },
  {
   "cell_type": "code",
   "execution_count": 259,
   "id": "ea65693a-728e-4271-a76d-3cebf71e1c06",
   "metadata": {},
   "outputs": [],
   "source": [
    "# Loading Bank nifty dataset source: https://www.niftyindices.com/reports/historical-data\n",
    "df_nb = pd.read_csv(\"/Users/junaidjaveed/Desktop/Project_1/BankNifty.csv\")"
   ]
  },
  {
   "cell_type": "code",
   "execution_count": 260,
   "id": "d3a26214-2fb7-41d2-a141-319483973106",
   "metadata": {},
   "outputs": [
    {
     "name": "stdout",
     "output_type": "stream",
     "text": [
      "['13 Mar 2025' '12 Mar 2025' '11 Mar 2025' ... '04 Jan 2000' '03 Jan 2000'\n",
      " '01 Jan 2000']\n"
     ]
    }
   ],
   "source": [
    "print(df_nb[\"Date\"].unique()) #Shows all the different date formats in Date column"
   ]
  },
  {
   "cell_type": "code",
   "execution_count": 261,
   "id": "ebde2a06-10d0-4794-81d7-d1dfc0fd4748",
   "metadata": {},
   "outputs": [],
   "source": [
    "#Convert to Datetime format to YYYY-MM-DD from dd mm YYYY\n",
    "df_nb[\"Date\"] = pd.to_datetime(df_nb[\"Date\"], format = \"%d %b %Y\")"
   ]
  },
  {
   "cell_type": "code",
   "execution_count": 262,
   "id": "f4124bf2-3afa-41b9-96b7-82788619a6de",
   "metadata": {},
   "outputs": [
    {
     "name": "stdout",
     "output_type": "stream",
     "text": [
      "datetime64[ns]\n"
     ]
    }
   ],
   "source": [
    "print(df_nb[\"Date\"].dtype)"
   ]
  },
  {
   "cell_type": "code",
   "execution_count": 263,
   "id": "38951ebc-815d-4d96-b257-6b9d81194d7e",
   "metadata": {},
   "outputs": [
    {
     "data": {
      "text/html": [
       "<div>\n",
       "<style scoped>\n",
       "    .dataframe tbody tr th:only-of-type {\n",
       "        vertical-align: middle;\n",
       "    }\n",
       "\n",
       "    .dataframe tbody tr th {\n",
       "        vertical-align: top;\n",
       "    }\n",
       "\n",
       "    .dataframe thead th {\n",
       "        text-align: right;\n",
       "    }\n",
       "</style>\n",
       "<table border=\"1\" class=\"dataframe\">\n",
       "  <thead>\n",
       "    <tr style=\"text-align: right;\">\n",
       "      <th></th>\n",
       "      <th>Index Name</th>\n",
       "      <th>Date</th>\n",
       "      <th>Open</th>\n",
       "      <th>High</th>\n",
       "      <th>Low</th>\n",
       "      <th>Close</th>\n",
       "    </tr>\n",
       "  </thead>\n",
       "  <tbody>\n",
       "    <tr>\n",
       "      <th>0</th>\n",
       "      <td>NIFTY BANK</td>\n",
       "      <td>2025-03-13</td>\n",
       "      <td>48219.15</td>\n",
       "      <td>48352.45</td>\n",
       "      <td>48006.1</td>\n",
       "      <td>48060.40</td>\n",
       "    </tr>\n",
       "    <tr>\n",
       "      <th>1</th>\n",
       "      <td>NIFTY BANK</td>\n",
       "      <td>2025-03-12</td>\n",
       "      <td>47894.4</td>\n",
       "      <td>48222.15</td>\n",
       "      <td>47844.95</td>\n",
       "      <td>48056.65</td>\n",
       "    </tr>\n",
       "    <tr>\n",
       "      <th>2</th>\n",
       "      <td>NIFTY BANK</td>\n",
       "      <td>2025-03-11</td>\n",
       "      <td>47874.8</td>\n",
       "      <td>48029.05</td>\n",
       "      <td>47702.9</td>\n",
       "      <td>47853.95</td>\n",
       "    </tr>\n",
       "    <tr>\n",
       "      <th>3</th>\n",
       "      <td>NIFTY BANK</td>\n",
       "      <td>2025-03-10</td>\n",
       "      <td>48312</td>\n",
       "      <td>48599.15</td>\n",
       "      <td>48124.65</td>\n",
       "      <td>48216.80</td>\n",
       "    </tr>\n",
       "    <tr>\n",
       "      <th>4</th>\n",
       "      <td>NIFTY BANK</td>\n",
       "      <td>2025-03-07</td>\n",
       "      <td>48463.8</td>\n",
       "      <td>48709.05</td>\n",
       "      <td>48359.35</td>\n",
       "      <td>48497.50</td>\n",
       "    </tr>\n",
       "  </tbody>\n",
       "</table>\n",
       "</div>"
      ],
      "text/plain": [
       "   Index Name       Date      Open      High       Low     Close\n",
       "0  NIFTY BANK 2025-03-13  48219.15  48352.45   48006.1  48060.40\n",
       "1  NIFTY BANK 2025-03-12   47894.4  48222.15  47844.95  48056.65\n",
       "2  NIFTY BANK 2025-03-11   47874.8  48029.05   47702.9  47853.95\n",
       "3  NIFTY BANK 2025-03-10     48312  48599.15  48124.65  48216.80\n",
       "4  NIFTY BANK 2025-03-07   48463.8  48709.05  48359.35  48497.50"
      ]
     },
     "execution_count": 263,
     "metadata": {},
     "output_type": "execute_result"
    }
   ],
   "source": [
    "df_nb.head()"
   ]
  },
  {
   "cell_type": "code",
   "execution_count": 264,
   "id": "baaeddd5-ad46-48de-b851-a9b41e48e0cb",
   "metadata": {},
   "outputs": [],
   "source": [
    "df_nb.index = df_nb[\"Date\"]"
   ]
  },
  {
   "cell_type": "code",
   "execution_count": 265,
   "id": "aa547f43-85b6-4410-bf4e-bf9c7fba76ef",
   "metadata": {},
   "outputs": [],
   "source": [
    "df_nb = df_nb.sort_index()"
   ]
  },
  {
   "cell_type": "code",
   "execution_count": 266,
   "id": "be1ece82-9f96-48b8-afb3-e9f3d3f774e3",
   "metadata": {},
   "outputs": [
    {
     "data": {
      "text/html": [
       "<div>\n",
       "<style scoped>\n",
       "    .dataframe tbody tr th:only-of-type {\n",
       "        vertical-align: middle;\n",
       "    }\n",
       "\n",
       "    .dataframe tbody tr th {\n",
       "        vertical-align: top;\n",
       "    }\n",
       "\n",
       "    .dataframe thead th {\n",
       "        text-align: right;\n",
       "    }\n",
       "</style>\n",
       "<table border=\"1\" class=\"dataframe\">\n",
       "  <thead>\n",
       "    <tr style=\"text-align: right;\">\n",
       "      <th></th>\n",
       "      <th>Index Name</th>\n",
       "      <th>Date</th>\n",
       "      <th>Open</th>\n",
       "      <th>High</th>\n",
       "      <th>Low</th>\n",
       "      <th>Close</th>\n",
       "    </tr>\n",
       "    <tr>\n",
       "      <th>Date</th>\n",
       "      <th></th>\n",
       "      <th></th>\n",
       "      <th></th>\n",
       "      <th></th>\n",
       "      <th></th>\n",
       "      <th></th>\n",
       "    </tr>\n",
       "  </thead>\n",
       "  <tbody>\n",
       "    <tr>\n",
       "      <th>2000-01-01</th>\n",
       "      <td>NIFTY BANK</td>\n",
       "      <td>2000-01-01</td>\n",
       "      <td>-</td>\n",
       "      <td>-</td>\n",
       "      <td>-</td>\n",
       "      <td>1000.00</td>\n",
       "    </tr>\n",
       "    <tr>\n",
       "      <th>2000-01-03</th>\n",
       "      <td>NIFTY BANK</td>\n",
       "      <td>2000-01-03</td>\n",
       "      <td>-</td>\n",
       "      <td>-</td>\n",
       "      <td>-</td>\n",
       "      <td>1054.81</td>\n",
       "    </tr>\n",
       "    <tr>\n",
       "      <th>2000-01-04</th>\n",
       "      <td>NIFTY BANK</td>\n",
       "      <td>2000-01-04</td>\n",
       "      <td>-</td>\n",
       "      <td>-</td>\n",
       "      <td>-</td>\n",
       "      <td>1092.08</td>\n",
       "    </tr>\n",
       "    <tr>\n",
       "      <th>2000-01-05</th>\n",
       "      <td>NIFTY BANK</td>\n",
       "      <td>2000-01-05</td>\n",
       "      <td>-</td>\n",
       "      <td>-</td>\n",
       "      <td>-</td>\n",
       "      <td>1055.99</td>\n",
       "    </tr>\n",
       "    <tr>\n",
       "      <th>2000-01-06</th>\n",
       "      <td>NIFTY BANK</td>\n",
       "      <td>2000-01-06</td>\n",
       "      <td>-</td>\n",
       "      <td>-</td>\n",
       "      <td>-</td>\n",
       "      <td>1086.67</td>\n",
       "    </tr>\n",
       "    <tr>\n",
       "      <th>2000-01-07</th>\n",
       "      <td>NIFTY BANK</td>\n",
       "      <td>2000-01-07</td>\n",
       "      <td>-</td>\n",
       "      <td>-</td>\n",
       "      <td>-</td>\n",
       "      <td>1126.99</td>\n",
       "    </tr>\n",
       "    <tr>\n",
       "      <th>2000-01-10</th>\n",
       "      <td>NIFTY BANK</td>\n",
       "      <td>2000-01-10</td>\n",
       "      <td>-</td>\n",
       "      <td>-</td>\n",
       "      <td>-</td>\n",
       "      <td>1088.97</td>\n",
       "    </tr>\n",
       "    <tr>\n",
       "      <th>2000-01-11</th>\n",
       "      <td>NIFTY BANK</td>\n",
       "      <td>2000-01-11</td>\n",
       "      <td>-</td>\n",
       "      <td>-</td>\n",
       "      <td>-</td>\n",
       "      <td>1033.55</td>\n",
       "    </tr>\n",
       "    <tr>\n",
       "      <th>2000-01-12</th>\n",
       "      <td>NIFTY BANK</td>\n",
       "      <td>2000-01-12</td>\n",
       "      <td>-</td>\n",
       "      <td>-</td>\n",
       "      <td>-</td>\n",
       "      <td>1036.63</td>\n",
       "    </tr>\n",
       "    <tr>\n",
       "      <th>2000-01-13</th>\n",
       "      <td>NIFTY BANK</td>\n",
       "      <td>2000-01-13</td>\n",
       "      <td>-</td>\n",
       "      <td>-</td>\n",
       "      <td>-</td>\n",
       "      <td>1034.19</td>\n",
       "    </tr>\n",
       "  </tbody>\n",
       "</table>\n",
       "</div>"
      ],
      "text/plain": [
       "            Index Name       Date Open High Low    Close\n",
       "Date                                                    \n",
       "2000-01-01  NIFTY BANK 2000-01-01    -    -   -  1000.00\n",
       "2000-01-03  NIFTY BANK 2000-01-03    -    -   -  1054.81\n",
       "2000-01-04  NIFTY BANK 2000-01-04    -    -   -  1092.08\n",
       "2000-01-05  NIFTY BANK 2000-01-05    -    -   -  1055.99\n",
       "2000-01-06  NIFTY BANK 2000-01-06    -    -   -  1086.67\n",
       "2000-01-07  NIFTY BANK 2000-01-07    -    -   -  1126.99\n",
       "2000-01-10  NIFTY BANK 2000-01-10    -    -   -  1088.97\n",
       "2000-01-11  NIFTY BANK 2000-01-11    -    -   -  1033.55\n",
       "2000-01-12  NIFTY BANK 2000-01-12    -    -   -  1036.63\n",
       "2000-01-13  NIFTY BANK 2000-01-13    -    -   -  1034.19"
      ]
     },
     "execution_count": 266,
     "metadata": {},
     "output_type": "execute_result"
    }
   ],
   "source": [
    "df_nb.head(10)"
   ]
  },
  {
   "cell_type": "code",
   "execution_count": 267,
   "id": "14cf7578-d6a8-4a13-a1b5-786ff3f5b370",
   "metadata": {},
   "outputs": [],
   "source": [
    "#Find earliest date since when nifty bank prices were recorded.\n",
    "earliest_date = df_nb[\"Date\"].min()"
   ]
  },
  {
   "cell_type": "code",
   "execution_count": 268,
   "id": "fb61b621-4bd0-4df7-934b-236d51b1b797",
   "metadata": {},
   "outputs": [],
   "source": [
    "# Drop rows from interest table which are older than earliest date, Since no data is available for those dates in nifty bank table\n",
    "df = df[df[\"Effective Date\"] >= earliest_date]"
   ]
  },
  {
   "cell_type": "code",
   "execution_count": 269,
   "id": "31a1272f-67f5-4b82-9673-7fa2e3531d0c",
   "metadata": {},
   "outputs": [],
   "source": [
    "df.reset_index(drop=True, inplace=True) # reset index"
   ]
  },
  {
   "cell_type": "code",
   "execution_count": 270,
   "id": "fb113dde-680b-49f3-88cb-24a09228be68",
   "metadata": {},
   "outputs": [],
   "source": [
    "df_nb.reset_index(drop=True, inplace=True) #reset index"
   ]
  },
  {
   "cell_type": "code",
   "execution_count": 271,
   "id": "1aaaf5e1-d1d8-4b09-9808-ecda55974234",
   "metadata": {},
   "outputs": [],
   "source": [
    "#Convert data formats to numeric for following columns\n",
    "col_to_convert = [\"Open\", \"High\", \"Low\", \"Bank Rate\", \"Repo\", \"Reverse Repo\", \"Standing Deposit Facility (SDF) Rate\", \n",
    "                  \"Marginal Standing Facility (MSF) Rate\", \"Cash Reserve Ratio (CRR)\",\n",
    "                 \"Statutory Liquidity Ratio (SLR)\"]\n",
    "for col in col_to_convert:\n",
    "    df_merged[col] = pd.to_numeric(df_merged[col], errors= 'coerce')"
   ]
  },
  {
   "cell_type": "code",
   "execution_count": 272,
   "id": "fe661912-4e16-430b-81fc-76ae51d6111b",
   "metadata": {},
   "outputs": [
    {
     "name": "stdout",
     "output_type": "stream",
     "text": [
      "83\n"
     ]
    }
   ],
   "source": [
    "#Check common date in both tables\n",
    "common_dates = set(df_nb['Date']).intersection(set(df['Effective Date']))\n",
    "print(len(common_dates))\n"
   ]
  },
  {
   "cell_type": "code",
   "execution_count": 273,
   "id": "8837654c-a321-4754-9bb3-f80db9f650f3",
   "metadata": {},
   "outputs": [],
   "source": [
    "df_nb['Date'] = pd.to_datetime(df_nb['Date'], format='%Y-%m-%d', errors='coerce')\n",
    "df['Effective Date'] = pd.to_datetime(df['Effective Date'], format='%Y-%m-%d', errors='coerce')"
   ]
  },
  {
   "cell_type": "code",
   "execution_count": 274,
   "id": "37560c4c-2f61-473c-825e-ea542b076c3d",
   "metadata": {},
   "outputs": [
    {
     "name": "stdout",
     "output_type": "stream",
     "text": [
      "0 0\n"
     ]
    }
   ],
   "source": [
    "print(df_nb['Date'].isna().sum(), df['Effective Date'].isna().sum())"
   ]
  },
  {
   "cell_type": "code",
   "execution_count": 275,
   "id": "d1346ad1-4e9c-4445-abc1-6613a4685aec",
   "metadata": {},
   "outputs": [
    {
     "data": {
      "text/html": [
       "<div>\n",
       "<style scoped>\n",
       "    .dataframe tbody tr th:only-of-type {\n",
       "        vertical-align: middle;\n",
       "    }\n",
       "\n",
       "    .dataframe tbody tr th {\n",
       "        vertical-align: top;\n",
       "    }\n",
       "\n",
       "    .dataframe thead th {\n",
       "        text-align: right;\n",
       "    }\n",
       "</style>\n",
       "<table border=\"1\" class=\"dataframe\">\n",
       "  <thead>\n",
       "    <tr style=\"text-align: right;\">\n",
       "      <th></th>\n",
       "      <th>Effective Date</th>\n",
       "      <th>Bank Rate</th>\n",
       "      <th>Repo</th>\n",
       "      <th>Reverse Repo</th>\n",
       "      <th>Standing Deposit Facility (SDF) Rate</th>\n",
       "      <th>Marginal Standing Facility (MSF) Rate</th>\n",
       "      <th>Cash Reserve Ratio (CRR)</th>\n",
       "      <th>Statutory Liquidity Ratio (SLR)</th>\n",
       "    </tr>\n",
       "  </thead>\n",
       "  <tbody>\n",
       "    <tr>\n",
       "      <th>0</th>\n",
       "      <td>2000-04-02</td>\n",
       "      <td>7.00</td>\n",
       "      <td>&lt;NA&gt;</td>\n",
       "      <td>&lt;NA&gt;</td>\n",
       "      <td>&lt;NA&gt;</td>\n",
       "      <td>&lt;NA&gt;</td>\n",
       "      <td>9</td>\n",
       "      <td>25.00</td>\n",
       "    </tr>\n",
       "    <tr>\n",
       "      <th>1</th>\n",
       "      <td>2000-04-08</td>\n",
       "      <td>7.00</td>\n",
       "      <td>&lt;NA&gt;</td>\n",
       "      <td>&lt;NA&gt;</td>\n",
       "      <td>&lt;NA&gt;</td>\n",
       "      <td>&lt;NA&gt;</td>\n",
       "      <td>8.5</td>\n",
       "      <td>25.00</td>\n",
       "    </tr>\n",
       "    <tr>\n",
       "      <th>2</th>\n",
       "      <td>2000-04-22</td>\n",
       "      <td>7.00</td>\n",
       "      <td>&lt;NA&gt;</td>\n",
       "      <td>&lt;NA&gt;</td>\n",
       "      <td>&lt;NA&gt;</td>\n",
       "      <td>&lt;NA&gt;</td>\n",
       "      <td>8</td>\n",
       "      <td>25.00</td>\n",
       "    </tr>\n",
       "    <tr>\n",
       "      <th>3</th>\n",
       "      <td>2000-07-22</td>\n",
       "      <td>8.00</td>\n",
       "      <td>&lt;NA&gt;</td>\n",
       "      <td>&lt;NA&gt;</td>\n",
       "      <td>&lt;NA&gt;</td>\n",
       "      <td>&lt;NA&gt;</td>\n",
       "      <td>8</td>\n",
       "      <td>25.00</td>\n",
       "    </tr>\n",
       "    <tr>\n",
       "      <th>4</th>\n",
       "      <td>2000-07-29</td>\n",
       "      <td>8.00</td>\n",
       "      <td>&lt;NA&gt;</td>\n",
       "      <td>&lt;NA&gt;</td>\n",
       "      <td>&lt;NA&gt;</td>\n",
       "      <td>&lt;NA&gt;</td>\n",
       "      <td>8.25</td>\n",
       "      <td>25.00</td>\n",
       "    </tr>\n",
       "  </tbody>\n",
       "</table>\n",
       "</div>"
      ],
      "text/plain": [
       "  Effective Date Bank Rate  Repo Reverse Repo Standing Deposit Facility (SDF) Rate Marginal Standing Facility (MSF) Rate Cash Reserve Ratio (CRR) Statutory Liquidity Ratio (SLR)\n",
       "0     2000-04-02      7.00  <NA>         <NA>                                 <NA>                                  <NA>                        9                           25.00\n",
       "1     2000-04-08      7.00  <NA>         <NA>                                 <NA>                                  <NA>                      8.5                           25.00\n",
       "2     2000-04-22      7.00  <NA>         <NA>                                 <NA>                                  <NA>                        8                           25.00\n",
       "3     2000-07-22      8.00  <NA>         <NA>                                 <NA>                                  <NA>                        8                           25.00\n",
       "4     2000-07-29      8.00  <NA>         <NA>                                 <NA>                                  <NA>                     8.25                           25.00"
      ]
     },
     "execution_count": 275,
     "metadata": {},
     "output_type": "execute_result"
    }
   ],
   "source": [
    "df.head()"
   ]
  },
  {
   "cell_type": "code",
   "execution_count": 276,
   "id": "f7e82f97-0305-48cb-b1b1-abb3ef8b25a3",
   "metadata": {},
   "outputs": [
    {
     "data": {
      "text/plain": [
       "<bound method NDFrame.head of       Index Name       Date      Open      High       Low     Close\n",
       "0     NIFTY BANK 2000-01-01         -         -         -   1000.00\n",
       "1     NIFTY BANK 2000-01-03         -         -         -   1054.81\n",
       "2     NIFTY BANK 2000-01-04         -         -         -   1092.08\n",
       "3     NIFTY BANK 2000-01-05         -         -         -   1055.99\n",
       "4     NIFTY BANK 2000-01-06         -         -         -   1086.67\n",
       "...          ...        ...       ...       ...       ...       ...\n",
       "6265  NIFTY BANK 2025-03-07   48463.8  48709.05  48359.35  48497.50\n",
       "6266  NIFTY BANK 2025-03-10     48312  48599.15  48124.65  48216.80\n",
       "6267  NIFTY BANK 2025-03-11   47874.8  48029.05   47702.9  47853.95\n",
       "6268  NIFTY BANK 2025-03-12   47894.4  48222.15  47844.95  48056.65\n",
       "6269  NIFTY BANK 2025-03-13  48219.15  48352.45   48006.1  48060.40\n",
       "\n",
       "[6270 rows x 6 columns]>"
      ]
     },
     "execution_count": 276,
     "metadata": {},
     "output_type": "execute_result"
    }
   ],
   "source": [
    "df.head()\n",
    "df_nb.head"
   ]
  },
  {
   "cell_type": "code",
   "execution_count": 277,
   "id": "e74968ee-9045-473c-b4fd-856c856370c6",
   "metadata": {},
   "outputs": [],
   "source": [
    "# Drop \"Index Name\" column not needed\n",
    "df_nb.drop(columns=[\"Index Name\"], inplace = True)"
   ]
  },
  {
   "cell_type": "code",
   "execution_count": 278,
   "id": "3f002f74-c605-4a4a-9927-2e1ce678c0d1",
   "metadata": {},
   "outputs": [],
   "source": [
    "#Merge two data sets, asof check for mismatches and assigns closest date available base on condition, here: \"days=3\"\n",
    "df_merged = pd.merge_asof(df_nb, df, left_on=\"Date\", right_on=\"Effective Date\", tolerance=pd.Timedelta(days=3))"
   ]
  },
  {
   "cell_type": "code",
   "execution_count": 279,
   "id": "9cc1073a-1184-42ed-ad5f-cb282f9a8a80",
   "metadata": {},
   "outputs": [
    {
     "data": {
      "text/plain": [
       "np.int64(151)"
      ]
     },
     "execution_count": 279,
     "metadata": {},
     "output_type": "execute_result"
    }
   ],
   "source": [
    "df[\"Effective Date\"].notna().sum()"
   ]
  },
  {
   "cell_type": "code",
   "execution_count": 280,
   "id": "bade13e8-1e20-4d27-a172-1ff321bd15bb",
   "metadata": {},
   "outputs": [],
   "source": [
    "df_merged.set_index(\"Date\", inplace = True)"
   ]
  },
  {
   "cell_type": "code",
   "execution_count": 281,
   "id": "a16ebe02-a4b2-4937-a858-5c1aee8967d1",
   "metadata": {},
   "outputs": [],
   "source": [
    "# Drop rows older than date \"2000-03-31\" for now because no data is available for those dates/Only Bank Nifty index value.\n",
    "df_merged = df_merged[df_merged.index > \"2000-03-31\"]"
   ]
  },
  {
   "cell_type": "code",
   "execution_count": 282,
   "id": "e773ff5b-f426-4500-8de8-e3294b763e26",
   "metadata": {},
   "outputs": [
    {
     "data": {
      "text/html": [
       "<div>\n",
       "<style scoped>\n",
       "    .dataframe tbody tr th:only-of-type {\n",
       "        vertical-align: middle;\n",
       "    }\n",
       "\n",
       "    .dataframe tbody tr th {\n",
       "        vertical-align: top;\n",
       "    }\n",
       "\n",
       "    .dataframe thead th {\n",
       "        text-align: right;\n",
       "    }\n",
       "</style>\n",
       "<table border=\"1\" class=\"dataframe\">\n",
       "  <thead>\n",
       "    <tr style=\"text-align: right;\">\n",
       "      <th></th>\n",
       "      <th>Open</th>\n",
       "      <th>High</th>\n",
       "      <th>Low</th>\n",
       "      <th>Close</th>\n",
       "      <th>Effective Date</th>\n",
       "      <th>Bank Rate</th>\n",
       "      <th>Repo</th>\n",
       "      <th>Reverse Repo</th>\n",
       "      <th>Standing Deposit Facility (SDF) Rate</th>\n",
       "      <th>Marginal Standing Facility (MSF) Rate</th>\n",
       "      <th>Cash Reserve Ratio (CRR)</th>\n",
       "      <th>Statutory Liquidity Ratio (SLR)</th>\n",
       "    </tr>\n",
       "    <tr>\n",
       "      <th>Date</th>\n",
       "      <th></th>\n",
       "      <th></th>\n",
       "      <th></th>\n",
       "      <th></th>\n",
       "      <th></th>\n",
       "      <th></th>\n",
       "      <th></th>\n",
       "      <th></th>\n",
       "      <th></th>\n",
       "      <th></th>\n",
       "      <th></th>\n",
       "      <th></th>\n",
       "    </tr>\n",
       "  </thead>\n",
       "  <tbody>\n",
       "    <tr>\n",
       "      <th>2000-04-03</th>\n",
       "      <td>-</td>\n",
       "      <td>-</td>\n",
       "      <td>-</td>\n",
       "      <td>1110.14</td>\n",
       "      <td>2000-04-02</td>\n",
       "      <td>7.00</td>\n",
       "      <td>&lt;NA&gt;</td>\n",
       "      <td>&lt;NA&gt;</td>\n",
       "      <td>&lt;NA&gt;</td>\n",
       "      <td>&lt;NA&gt;</td>\n",
       "      <td>9</td>\n",
       "      <td>25.00</td>\n",
       "    </tr>\n",
       "    <tr>\n",
       "      <th>2000-04-04</th>\n",
       "      <td>-</td>\n",
       "      <td>-</td>\n",
       "      <td>-</td>\n",
       "      <td>1026.65</td>\n",
       "      <td>2000-04-02</td>\n",
       "      <td>7.00</td>\n",
       "      <td>&lt;NA&gt;</td>\n",
       "      <td>&lt;NA&gt;</td>\n",
       "      <td>&lt;NA&gt;</td>\n",
       "      <td>&lt;NA&gt;</td>\n",
       "      <td>9</td>\n",
       "      <td>25.00</td>\n",
       "    </tr>\n",
       "    <tr>\n",
       "      <th>2000-04-05</th>\n",
       "      <td>-</td>\n",
       "      <td>-</td>\n",
       "      <td>-</td>\n",
       "      <td>1000.84</td>\n",
       "      <td>2000-04-02</td>\n",
       "      <td>7.00</td>\n",
       "      <td>&lt;NA&gt;</td>\n",
       "      <td>&lt;NA&gt;</td>\n",
       "      <td>&lt;NA&gt;</td>\n",
       "      <td>&lt;NA&gt;</td>\n",
       "      <td>9</td>\n",
       "      <td>25.00</td>\n",
       "    </tr>\n",
       "    <tr>\n",
       "      <th>2000-04-06</th>\n",
       "      <td>-</td>\n",
       "      <td>-</td>\n",
       "      <td>-</td>\n",
       "      <td>989.20</td>\n",
       "      <td>NaT</td>\n",
       "      <td>NaN</td>\n",
       "      <td>NaN</td>\n",
       "      <td>NaN</td>\n",
       "      <td>NaN</td>\n",
       "      <td>NaN</td>\n",
       "      <td>NaN</td>\n",
       "      <td>NaN</td>\n",
       "    </tr>\n",
       "    <tr>\n",
       "      <th>2000-04-07</th>\n",
       "      <td>-</td>\n",
       "      <td>-</td>\n",
       "      <td>-</td>\n",
       "      <td>1048.75</td>\n",
       "      <td>NaT</td>\n",
       "      <td>NaN</td>\n",
       "      <td>NaN</td>\n",
       "      <td>NaN</td>\n",
       "      <td>NaN</td>\n",
       "      <td>NaN</td>\n",
       "      <td>NaN</td>\n",
       "      <td>NaN</td>\n",
       "    </tr>\n",
       "  </tbody>\n",
       "</table>\n",
       "</div>"
      ],
      "text/plain": [
       "           Open High Low    Close Effective Date Bank Rate  Repo Reverse Repo Standing Deposit Facility (SDF) Rate Marginal Standing Facility (MSF) Rate Cash Reserve Ratio (CRR) Statutory Liquidity Ratio (SLR)\n",
       "Date                                                                                                                                                                                                             \n",
       "2000-04-03    -    -   -  1110.14     2000-04-02      7.00  <NA>         <NA>                                 <NA>                                  <NA>                        9                           25.00\n",
       "2000-04-04    -    -   -  1026.65     2000-04-02      7.00  <NA>         <NA>                                 <NA>                                  <NA>                        9                           25.00\n",
       "2000-04-05    -    -   -  1000.84     2000-04-02      7.00  <NA>         <NA>                                 <NA>                                  <NA>                        9                           25.00\n",
       "2000-04-06    -    -   -   989.20            NaT       NaN   NaN          NaN                                  NaN                                   NaN                      NaN                             NaN\n",
       "2000-04-07    -    -   -  1048.75            NaT       NaN   NaN          NaN                                  NaN                                   NaN                      NaN                             NaN"
      ]
     },
     "execution_count": 282,
     "metadata": {},
     "output_type": "execute_result"
    }
   ],
   "source": [
    "df_merged.head()"
   ]
  },
  {
   "cell_type": "code",
   "execution_count": 283,
   "id": "de8aacdf-ddd4-47ea-b413-4bc457362256",
   "metadata": {},
   "outputs": [],
   "source": [
    "# Sort data as per date\n",
    "df_merged = df_merged.sort_index()"
   ]
  },
  {
   "cell_type": "code",
   "execution_count": 328,
   "id": "cd7ad880-a263-4280-999e-21bc316209c1",
   "metadata": {},
   "outputs": [
    {
     "data": {
      "text/html": [
       "<div>\n",
       "<style scoped>\n",
       "    .dataframe tbody tr th:only-of-type {\n",
       "        vertical-align: middle;\n",
       "    }\n",
       "\n",
       "    .dataframe tbody tr th {\n",
       "        vertical-align: top;\n",
       "    }\n",
       "\n",
       "    .dataframe thead th {\n",
       "        text-align: right;\n",
       "    }\n",
       "</style>\n",
       "<table border=\"1\" class=\"dataframe\">\n",
       "  <thead>\n",
       "    <tr style=\"text-align: right;\">\n",
       "      <th></th>\n",
       "      <th>index</th>\n",
       "      <th>Date</th>\n",
       "      <th>Open</th>\n",
       "      <th>High</th>\n",
       "      <th>Low</th>\n",
       "      <th>Close</th>\n",
       "      <th>Effective Date</th>\n",
       "      <th>Bank Rate</th>\n",
       "      <th>Repo</th>\n",
       "      <th>Reverse Repo</th>\n",
       "      <th>Standing Deposit Facility (SDF) Rate</th>\n",
       "      <th>Marginal Standing Facility (MSF) Rate</th>\n",
       "      <th>Cash Reserve Ratio (CRR)</th>\n",
       "      <th>Statutory Liquidity Ratio (SLR)</th>\n",
       "    </tr>\n",
       "  </thead>\n",
       "  <tbody>\n",
       "    <tr>\n",
       "      <th>0</th>\n",
       "      <td>0</td>\n",
       "      <td>2000-04-03</td>\n",
       "      <td>NaN</td>\n",
       "      <td>NaN</td>\n",
       "      <td>NaN</td>\n",
       "      <td>1110.14</td>\n",
       "      <td>2000-04-02</td>\n",
       "      <td>7.0</td>\n",
       "      <td>NaN</td>\n",
       "      <td>NaN</td>\n",
       "      <td>NaN</td>\n",
       "      <td>NaN</td>\n",
       "      <td>9.0</td>\n",
       "      <td>25.0</td>\n",
       "    </tr>\n",
       "    <tr>\n",
       "      <th>1</th>\n",
       "      <td>1</td>\n",
       "      <td>2000-04-04</td>\n",
       "      <td>NaN</td>\n",
       "      <td>NaN</td>\n",
       "      <td>NaN</td>\n",
       "      <td>1026.65</td>\n",
       "      <td>2000-04-02</td>\n",
       "      <td>7.0</td>\n",
       "      <td>NaN</td>\n",
       "      <td>NaN</td>\n",
       "      <td>NaN</td>\n",
       "      <td>NaN</td>\n",
       "      <td>9.0</td>\n",
       "      <td>25.0</td>\n",
       "    </tr>\n",
       "    <tr>\n",
       "      <th>2</th>\n",
       "      <td>2</td>\n",
       "      <td>2000-04-05</td>\n",
       "      <td>NaN</td>\n",
       "      <td>NaN</td>\n",
       "      <td>NaN</td>\n",
       "      <td>1000.84</td>\n",
       "      <td>2000-04-02</td>\n",
       "      <td>7.0</td>\n",
       "      <td>NaN</td>\n",
       "      <td>NaN</td>\n",
       "      <td>NaN</td>\n",
       "      <td>NaN</td>\n",
       "      <td>9.0</td>\n",
       "      <td>25.0</td>\n",
       "    </tr>\n",
       "    <tr>\n",
       "      <th>3</th>\n",
       "      <td>3</td>\n",
       "      <td>2000-04-06</td>\n",
       "      <td>NaN</td>\n",
       "      <td>NaN</td>\n",
       "      <td>NaN</td>\n",
       "      <td>989.20</td>\n",
       "      <td>2000-04-02</td>\n",
       "      <td>7.0</td>\n",
       "      <td>NaN</td>\n",
       "      <td>NaN</td>\n",
       "      <td>NaN</td>\n",
       "      <td>NaN</td>\n",
       "      <td>9.0</td>\n",
       "      <td>25.0</td>\n",
       "    </tr>\n",
       "    <tr>\n",
       "      <th>4</th>\n",
       "      <td>4</td>\n",
       "      <td>2000-04-07</td>\n",
       "      <td>NaN</td>\n",
       "      <td>NaN</td>\n",
       "      <td>NaN</td>\n",
       "      <td>1048.75</td>\n",
       "      <td>2000-04-02</td>\n",
       "      <td>7.0</td>\n",
       "      <td>NaN</td>\n",
       "      <td>NaN</td>\n",
       "      <td>NaN</td>\n",
       "      <td>NaN</td>\n",
       "      <td>9.0</td>\n",
       "      <td>25.0</td>\n",
       "    </tr>\n",
       "  </tbody>\n",
       "</table>\n",
       "</div>"
      ],
      "text/plain": [
       "   index       Date  Open  High  Low    Close Effective Date  Bank Rate  Repo  Reverse Repo  Standing Deposit Facility (SDF) Rate  Marginal Standing Facility (MSF) Rate  Cash Reserve Ratio (CRR)  Statutory Liquidity Ratio (SLR)\n",
       "0      0 2000-04-03   NaN   NaN  NaN  1110.14     2000-04-02        7.0   NaN           NaN                                   NaN                                    NaN                       9.0                             25.0\n",
       "1      1 2000-04-04   NaN   NaN  NaN  1026.65     2000-04-02        7.0   NaN           NaN                                   NaN                                    NaN                       9.0                             25.0\n",
       "2      2 2000-04-05   NaN   NaN  NaN  1000.84     2000-04-02        7.0   NaN           NaN                                   NaN                                    NaN                       9.0                             25.0\n",
       "3      3 2000-04-06   NaN   NaN  NaN   989.20     2000-04-02        7.0   NaN           NaN                                   NaN                                    NaN                       9.0                             25.0\n",
       "4      4 2000-04-07   NaN   NaN  NaN  1048.75     2000-04-02        7.0   NaN           NaN                                   NaN                                    NaN                       9.0                             25.0"
      ]
     },
     "execution_count": 328,
     "metadata": {},
     "output_type": "execute_result"
    }
   ],
   "source": [
    "# Forward fill the columns whos value stayed same unless changed by RBI\n",
    "df_merged = df_merged.ffill()\n",
    "df_merged.head()"
   ]
  },
  {
   "cell_type": "code",
   "execution_count": 356,
   "id": "f83c0eaf-8c12-445c-a52a-e996e6482e7b",
   "metadata": {},
   "outputs": [
    {
     "data": {
      "text/plain": [
       "level_0                                           int64\n",
       "index                                             int64\n",
       "Date                                     datetime64[ns]\n",
       "Open                                            float64\n",
       "High                                            float64\n",
       "Low                                             float64\n",
       "Close                                           float64\n",
       "Effective Date                           datetime64[ns]\n",
       "Bank Rate                                       float64\n",
       "Repo                                            float64\n",
       "Reverse Repo                                    float64\n",
       "Standing Deposit Facility (SDF) Rate            float64\n",
       "Marginal Standing Facility (MSF) Rate           float64\n",
       "Cash Reserve Ratio (CRR)                        float64\n",
       "Statutory Liquidity Ratio (SLR)                 float64\n",
       "dtype: object"
      ]
     },
     "execution_count": 356,
     "metadata": {},
     "output_type": "execute_result"
    }
   ],
   "source": [
    "df_merged.dtypes"
   ]
  },
  {
   "cell_type": "code",
   "execution_count": 330,
   "id": "8b96c8a4-38b9-4b01-bbf9-e3ec245c52f2",
   "metadata": {},
   "outputs": [],
   "source": [
    "#Convert formating to numeric for numeric columns/Float64\n",
    "for col in col_to_convert:\n",
    "    df_merged[col] = pd.to_numeric(df_merged[col], errors = \"coerce\")"
   ]
  },
  {
   "cell_type": "code",
   "execution_count": 331,
   "id": "0ef8fc94-8c28-412c-b340-dd22d1bed328",
   "metadata": {},
   "outputs": [],
   "source": [
    "df_merged = df_merged.reset_index()"
   ]
  },
  {
   "cell_type": "code",
   "execution_count": 358,
   "id": "e18bb9a7-624f-419f-a17f-046ebf31acf9",
   "metadata": {
    "scrolled": true
   },
   "outputs": [
    {
     "data": {
      "text/plain": [
       "np.int64(268)"
      ]
     },
     "execution_count": 358,
     "metadata": {},
     "output_type": "execute_result"
    }
   ],
   "source": [
    "df_merged[[\"Repo\",\"Close\"]].describe()\n",
    "df_merged[\"Repo\"].isna().sum()"
   ]
  },
  {
   "cell_type": "code",
   "execution_count": 355,
   "id": "78de8923-1bd1-452e-a9ba-6a477195ca03",
   "metadata": {
    "scrolled": true
   },
   "outputs": [
    {
     "data": {
      "text/plain": [
       "np.int64(268)"
      ]
     },
     "execution_count": 355,
     "metadata": {},
     "output_type": "execute_result"
    }
   ],
   "source": [
    "df_merged[[\"Repo\",\"Close\"]].describe()\n",
    "df_merged[\"Repo\"].isna().sum()"
   ]
  },
  {
   "cell_type": "code",
   "execution_count": 341,
   "id": "2e27837e-a02f-4b61-8af8-8b603837175a",
   "metadata": {},
   "outputs": [
    {
     "data": {
      "image/png": "[encoded data removed]",
      "text/plain": [
       "<Figure size 1800x1000 with 12 Axes>"
      ]
     },
     "metadata": {},
     "output_type": "display_data"
    }
   ],
   "source": [
    "# Plot histograms to take a look at data\n",
    "df_merged.drop(columns = [\"index\", \"Date\", \"Effective Date\"]).hist(bins = 20, figsize = (18,10), color = \"skyblue\", edgecolor = \"Black\")\n",
    "plt.show()"
   ]
  },
  {
   "cell_type": "code",
   "execution_count": 510,
   "id": "85842b18-422d-43ad-a4c0-ff08c2e81fa7",
   "metadata": {},
   "outputs": [],
   "source": [
    "# plt.scatter(df_merged[\"Repo\"],df_merged[\"Close\"], color = \"dodgerblue\", edgecolor = \"black\", alpha = 0.75)\n",
    "# plt.xlabel(\"Repo rate\")\n",
    "# plt.ylabel(\"Bank close index\")\n",
    "# plt.show()\n",
    "\n",
    "# Create DF Using Repo and Close only\n",
    "df_rc = df_merged[[\"Date\",\"Repo\", \"Close\"]]"
   ]
  },
  {
   "cell_type": "code",
   "execution_count": 446,
   "id": "b55787d5-bdff-49f6-a7b3-e5dbe8ce196b",
   "metadata": {},
   "outputs": [
    {
     "data": {
      "text/plain": [
       "Date     datetime64[ns]\n",
       "Repo            float64\n",
       "Close           float64\n",
       "dtype: object"
      ]
     },
     "execution_count": 446,
     "metadata": {},
     "output_type": "execute_result"
    }
   ],
   "source": [
    "df_rc.dtypes"
   ]
  },
  {
   "cell_type": "code",
   "execution_count": 511,
   "id": "a2d14cc9-b144-43bd-be15-f2c9de66363e",
   "metadata": {
    "scrolled": true
   },
   "outputs": [
    {
     "name": "stdout",
     "output_type": "stream",
     "text": [
      "Date     datetime64[ns]\n",
      "Repo            float64\n",
      "Close           float64\n",
      "dtype: object\n",
      "0\n",
      "[6.56011113 9.         8.75       8.5        8.         7.5\n",
      " 7.1        7.         6.         6.25       6.5        6.75\n",
      " 7.25       7.75       5.5        5.         4.75       5.25\n",
      " 5.75       8.25       5.4        5.15       4.4        4.\n",
      " 4.9        5.9       ]\n"
     ]
    }
   ],
   "source": [
    "# Filling Na values in Repo with mean of the series:\n",
    "df_rc.loc[:, \"Repo\"] = df_rc[\"Repo\"].fillna(df_rc[\"Repo\"].mean())\n",
    "print(df_rc.dtypes)\n",
    "print(df_rc[\"Repo\"].isna().sum())  # Count missing values\n",
    "print(df_rc[\"Repo\"].unique())  # Check unique values\n",
    "# df_rc.loc[:, \"Repo\"] = pd.to_numeric(df_rc[\"Repo\"], errors=\"coerce\")"
   ]
  },
  {
   "cell_type": "code",
   "execution_count": null,
   "id": "ac0f16b9-4f0a-4883-bbe0-5215f34ac5e0",
   "metadata": {},
   "outputs": [],
   "source": []
  },
  {
   "cell_type": "code",
   "execution_count": 512,
   "id": "2d1b77d8-5940-403b-9522-0ac5364c76f6",
   "metadata": {},
   "outputs": [
    {
     "data": {
      "text/html": [
       "<div>\n",
       "<style scoped>\n",
       "    .dataframe tbody tr th:only-of-type {\n",
       "        vertical-align: middle;\n",
       "    }\n",
       "\n",
       "    .dataframe tbody tr th {\n",
       "        vertical-align: top;\n",
       "    }\n",
       "\n",
       "    .dataframe thead th {\n",
       "        text-align: right;\n",
       "    }\n",
       "</style>\n",
       "<table border=\"1\" class=\"dataframe\">\n",
       "  <thead>\n",
       "    <tr style=\"text-align: right;\">\n",
       "      <th></th>\n",
       "      <th>Date</th>\n",
       "      <th>Repo</th>\n",
       "      <th>Close</th>\n",
       "    </tr>\n",
       "  </thead>\n",
       "  <tbody>\n",
       "    <tr>\n",
       "      <th>0</th>\n",
       "      <td>2000-04-03</td>\n",
       "      <td>6.560111</td>\n",
       "      <td>1110.14</td>\n",
       "    </tr>\n",
       "    <tr>\n",
       "      <th>1</th>\n",
       "      <td>2000-04-04</td>\n",
       "      <td>6.560111</td>\n",
       "      <td>1026.65</td>\n",
       "    </tr>\n",
       "    <tr>\n",
       "      <th>2</th>\n",
       "      <td>2000-04-05</td>\n",
       "      <td>6.560111</td>\n",
       "      <td>1000.84</td>\n",
       "    </tr>\n",
       "    <tr>\n",
       "      <th>3</th>\n",
       "      <td>2000-04-06</td>\n",
       "      <td>6.560111</td>\n",
       "      <td>989.20</td>\n",
       "    </tr>\n",
       "    <tr>\n",
       "      <th>4</th>\n",
       "      <td>2000-04-07</td>\n",
       "      <td>6.560111</td>\n",
       "      <td>1048.75</td>\n",
       "    </tr>\n",
       "  </tbody>\n",
       "</table>\n",
       "</div>"
      ],
      "text/plain": [
       "        Date      Repo    Close\n",
       "0 2000-04-03  6.560111  1110.14\n",
       "1 2000-04-04  6.560111  1026.65\n",
       "2 2000-04-05  6.560111  1000.84\n",
       "3 2000-04-06  6.560111   989.20\n",
       "4 2000-04-07  6.560111  1048.75"
      ]
     },
     "execution_count": 512,
     "metadata": {},
     "output_type": "execute_result"
    }
   ],
   "source": [
    "df_rc.head()"
   ]
  },
  {
   "cell_type": "code",
   "execution_count": 514,
   "id": "c95fa977-2f35-44f1-8237-7acf1f8fcde8",
   "metadata": {},
   "outputs": [],
   "source": [
    "# Appy z-score manually:\n",
    "df_rc.loc[:, \"Repo\"] = ((df_rc[\"Repo\"]-df_rc[\"Repo\"].mean())/df_rc[\"Repo\"].std()).round(10)"
   ]
  },
  {
   "cell_type": "code",
   "execution_count": null,
   "id": "a1003b77-f985-4005-a84d-cc001a90c44a",
   "metadata": {},
   "outputs": [],
   "source": []
  },
  {
   "cell_type": "code",
   "execution_count": 515,
   "id": "03097327-cde2-4270-8244-f0121050d239",
   "metadata": {},
   "outputs": [],
   "source": [
    "df_rc.loc[:, \"Close\"] = (df_rc[\"Close\"]-df_rc[\"Close\"].mean())/df_rc[\"Close\"].std()\n",
    "# tmp = ((df_rc[\"Repo\"]-df_rc[\"Repo\"].mean())/df_rc[\"Repo\"].std()).round(10)"
   ]
  },
  {
   "cell_type": "code",
   "execution_count": 516,
   "id": "7aeb780b-eb3b-4cb7-b5d2-3f8076f2e1e7",
   "metadata": {},
   "outputs": [
    {
     "name": "stdout",
     "output_type": "stream",
     "text": [
      "Repo Mean after standardization: -3.415532110760309e-12\n",
      "Repo Standard deviation after standardization: 0.9999999999983467\n",
      "Close Mean after standardization: -7.326362991565396e-17\n",
      "Close Standard deviation after standardization: 1.0\n"
     ]
    }
   ],
   "source": [
    "#Check std and mean after standardization: Should be close to 1 and 0 respectively.\n",
    "print(\"Repo Mean after standardization:\", df_rc[\"Repo\"].mean())  \n",
    "print(\"Repo Standard deviation after standardization:\", df_rc[\"Repo\"].std())\n",
    "print(\"Close Mean after standardization:\", df_rc[\"Close\"].mean())  \n",
    "print(\"Close Standard deviation after standardization:\", df_rc[\"Close\"].std())"
   ]
  },
  {
   "cell_type": "code",
   "execution_count": 523,
   "id": "b24fcc34-9ed3-4601-98a9-5271aaa37a34",
   "metadata": {},
   "outputs": [],
   "source": [
    "# Bivariate correlation\n",
    "corr_rc = df_rc[[\"Repo\",\"Close\"]].corr(\"pearson\")"
   ]
  },
  {
   "cell_type": "code",
   "execution_count": 524,
   "id": "d3b7ca1c-1b16-42e8-a28e-ae39cbb16923",
   "metadata": {},
   "outputs": [
    {
     "name": "stdout",
     "output_type": "stream",
     "text": [
      "           Repo     Close\n",
      "Repo   1.000000 -0.428325\n",
      "Close -0.428325  1.000000\n"
     ]
    }
   ],
   "source": [
    "print(corr_rc)"
   ]
  },
  {
   "cell_type": "code",
   "execution_count": 535,
   "id": "91ea5915-5fcf-4ab4-9833-15d7df6ed93d",
   "metadata": {},
   "outputs": [
    {
     "data": {
      "image/png": "[encoded data removed]",
      "text/plain": [
       "<Figure size 400x200 with 2 Axes>"
      ]
     },
     "metadata": {},
     "output_type": "display_data"
    }
   ],
   "source": [
    "plt.figure(figsize = (4,2))\n",
    "sns.heatmap(corr_rc, annot = True)\n",
    "plt.title(\"Correlation heatmap\")\n",
    "plt.show()"
   ]
  },
  {
   "cell_type": "code",
   "execution_count": null,
   "id": "dc2e6659-ee08-451a-be07-cdb37030fc8e",
   "metadata": {},
   "outputs": [],
   "source": []
  }
 ],
 "metadata": {
  "kernelspec": {
   "display_name": "Python 3 (ipykernel)",
   "language": "python",
   "name": "python3"
  },
  "language_info": {
   "codemirror_mode": {
    "name": "ipython",
    "version": 3
   },
   "file_extension": ".py",
   "mimetype": "text/x-python",
   "name": "python",
   "nbconvert_exporter": "python",
   "pygments_lexer": "ipython3",
   "version": "3.9.6"
  }
 },
 "nbformat": 4,
 "nbformat_minor": 5
}
